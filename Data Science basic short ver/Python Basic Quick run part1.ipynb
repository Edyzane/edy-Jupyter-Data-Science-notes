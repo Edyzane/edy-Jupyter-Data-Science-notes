{
 "cells": [
  {
   "cell_type": "markdown",
   "id": "71622ce2",
   "metadata": {},
   "source": [
    "# Intro"
   ]
  },
  {
   "cell_type": "code",
   "execution_count": 1,
   "id": "852b53ea",
   "metadata": {},
   "outputs": [
    {
     "name": "stdout",
     "output_type": "stream",
     "text": [
      "hello worlds\n"
     ]
    }
   ],
   "source": [
    "print(\"hello worlds\")"
   ]
  },
  {
   "cell_type": "markdown",
   "id": "67419b27",
   "metadata": {},
   "source": [
    "# Variables"
   ]
  },
  {
   "cell_type": "code",
   "execution_count": 2,
   "id": "623efa44",
   "metadata": {},
   "outputs": [],
   "source": [
    "x = 3"
   ]
  },
  {
   "cell_type": "code",
   "execution_count": 3,
   "id": "14da5774",
   "metadata": {},
   "outputs": [
    {
     "name": "stdout",
     "output_type": "stream",
     "text": [
      "Variable   Type    Data/Info\n",
      "----------------------------\n",
      "x          int     3\n"
     ]
    }
   ],
   "source": [
    "%whos"
   ]
  },
  {
   "cell_type": "code",
   "execution_count": 4,
   "id": "bbdc24ff",
   "metadata": {},
   "outputs": [
    {
     "name": "stdout",
     "output_type": "stream",
     "text": [
      "<class 'int'>\n"
     ]
    }
   ],
   "source": [
    "print(type(x))"
   ]
  },
  {
   "cell_type": "code",
   "execution_count": 5,
   "id": "83b81d18",
   "metadata": {},
   "outputs": [],
   "source": [
    "x= 5.7"
   ]
  },
  {
   "cell_type": "code",
   "execution_count": 6,
   "id": "5a13efb0",
   "metadata": {},
   "outputs": [
    {
     "name": "stdout",
     "output_type": "stream",
     "text": [
      "Variable   Type     Data/Info\n",
      "-----------------------------\n",
      "x          float    5.7\n"
     ]
    }
   ],
   "source": [
    "%whos"
   ]
  },
  {
   "cell_type": "code",
   "execution_count": 7,
   "id": "22c8af36",
   "metadata": {},
   "outputs": [
    {
     "name": "stdout",
     "output_type": "stream",
     "text": [
      "<class 'float'>\n"
     ]
    }
   ],
   "source": [
    "print(type(x))"
   ]
  },
  {
   "cell_type": "code",
   "execution_count": 8,
   "id": "292c4c81",
   "metadata": {},
   "outputs": [],
   "source": [
    "abcd = 556.4"
   ]
  },
  {
   "cell_type": "code",
   "execution_count": 9,
   "id": "45ba85db",
   "metadata": {},
   "outputs": [
    {
     "name": "stdout",
     "output_type": "stream",
     "text": [
      "Variable   Type     Data/Info\n",
      "-----------------------------\n",
      "abcd       float    556.4\n",
      "x          float    5.7\n"
     ]
    }
   ],
   "source": [
    "%whos"
   ]
  },
  {
   "cell_type": "code",
   "execution_count": 10,
   "id": "0339a481",
   "metadata": {},
   "outputs": [],
   "source": [
    "a,b,c,d,f = 3,5,6.0,7.2,-3"
   ]
  },
  {
   "cell_type": "code",
   "execution_count": 12,
   "id": "81b8babe",
   "metadata": {},
   "outputs": [
    {
     "name": "stdout",
     "output_type": "stream",
     "text": [
      "Variable   Type     Data/Info\n",
      "-----------------------------\n",
      "a          int      3\n",
      "abcd       float    556.4\n",
      "b          int      5\n",
      "c          float    6.0\n",
      "d          float    7.2\n",
      "f          int      -3\n",
      "x          float    5.7\n"
     ]
    }
   ],
   "source": [
    "%whos"
   ]
  },
  {
   "cell_type": "code",
   "execution_count": 13,
   "id": "19fba94d",
   "metadata": {},
   "outputs": [],
   "source": [
    "del abcd"
   ]
  },
  {
   "cell_type": "code",
   "execution_count": 14,
   "id": "f509d10d",
   "metadata": {},
   "outputs": [
    {
     "name": "stdout",
     "output_type": "stream",
     "text": [
      "Variable   Type     Data/Info\n",
      "-----------------------------\n",
      "a          int      3\n",
      "b          int      5\n",
      "c          float    6.0\n",
      "d          float    7.2\n",
      "f          int      -3\n",
      "x          float    5.7\n"
     ]
    }
   ],
   "source": [
    "%whos"
   ]
  },
  {
   "cell_type": "code",
   "execution_count": 15,
   "id": "1c30c29e",
   "metadata": {},
   "outputs": [
    {
     "ename": "NameError",
     "evalue": "name 'abcd' is not defined",
     "output_type": "error",
     "traceback": [
      "\u001b[1;31m---------------------------------------------------------------------------\u001b[0m",
      "\u001b[1;31mNameError\u001b[0m                                 Traceback (most recent call last)",
      "\u001b[1;32m~\\AppData\\Local\\Temp/ipykernel_8080/224357748.py\u001b[0m in \u001b[0;36m<module>\u001b[1;34m\u001b[0m\n\u001b[1;32m----> 1\u001b[1;33m \u001b[0mprint\u001b[0m\u001b[1;33m(\u001b[0m\u001b[0mabcd\u001b[0m\u001b[1;33m)\u001b[0m\u001b[1;33m\u001b[0m\u001b[1;33m\u001b[0m\u001b[0m\n\u001b[0m",
      "\u001b[1;31mNameError\u001b[0m: name 'abcd' is not defined"
     ]
    }
   ],
   "source": [
    "print(abcd)"
   ]
  },
  {
   "cell_type": "code",
   "execution_count": 16,
   "id": "8541d4ac",
   "metadata": {},
   "outputs": [],
   "source": [
    "c = 2+4j"
   ]
  },
  {
   "cell_type": "code",
   "execution_count": 17,
   "id": "0174340d",
   "metadata": {},
   "outputs": [
    {
     "name": "stdout",
     "output_type": "stream",
     "text": [
      "<class 'complex'>\n"
     ]
    }
   ],
   "source": [
    "print(type(c))"
   ]
  },
  {
   "cell_type": "code",
   "execution_count": 18,
   "id": "ff6c2da0",
   "metadata": {},
   "outputs": [],
   "source": [
    "s = \"hello worlds\""
   ]
  },
  {
   "cell_type": "code",
   "execution_count": 19,
   "id": "84ba5339",
   "metadata": {},
   "outputs": [
    {
     "name": "stdout",
     "output_type": "stream",
     "text": [
      "<class 'str'>\n"
     ]
    }
   ],
   "source": [
    "print(type(s))"
   ]
  },
  {
   "cell_type": "markdown",
   "id": "f0dc0f77",
   "metadata": {},
   "source": [
    "# This is a level 2 heading"
   ]
  },
  {
   "cell_type": "markdown",
   "id": "c7e54fae",
   "metadata": {},
   "source": [
    "+ add\n",
    "- sub\n",
    "/ div\n",
    "% mod\n",
    "* mul\n",
    "// floor div\n",
    "** pow"
   ]
  },
  {
   "cell_type": "code",
   "execution_count": 23,
   "id": "1a1f1721",
   "metadata": {},
   "outputs": [
    {
     "name": "stdout",
     "output_type": "stream",
     "text": [
      "Variable   Type       Data/Info\n",
      "-------------------------------\n",
      "a          int        3\n",
      "b          int        5\n",
      "c          complex    (2+4j)\n",
      "d          float      7.2\n",
      "f          int        -3\n",
      "s          str        hello worlds\n",
      "x          float      5.7\n"
     ]
    }
   ],
   "source": [
    "%whos"
   ]
  },
  {
   "cell_type": "code",
   "execution_count": 24,
   "id": "b7db4646",
   "metadata": {},
   "outputs": [],
   "source": [
    "sumAB = a+b"
   ]
  },
  {
   "cell_type": "code",
   "execution_count": 25,
   "id": "57c46d77",
   "metadata": {},
   "outputs": [
    {
     "name": "stdout",
     "output_type": "stream",
     "text": [
      "8\n"
     ]
    }
   ],
   "source": [
    "print(sumAB)"
   ]
  },
  {
   "cell_type": "code",
   "execution_count": 26,
   "id": "29169bc4",
   "metadata": {},
   "outputs": [
    {
     "name": "stdout",
     "output_type": "stream",
     "text": [
      "<class 'int'>\n"
     ]
    }
   ],
   "source": [
    "print(type(sumAB))"
   ]
  },
  {
   "cell_type": "code",
   "execution_count": 27,
   "id": "7a1f0fa6",
   "metadata": {},
   "outputs": [
    {
     "data": {
      "text/plain": [
       "float"
      ]
     },
     "execution_count": 27,
     "metadata": {},
     "output_type": "execute_result"
    }
   ],
   "source": [
    "type(a+d)"
   ]
  },
  {
   "cell_type": "code",
   "execution_count": 28,
   "id": "92727d38",
   "metadata": {},
   "outputs": [],
   "source": [
    "v = ((a+d)**3)/5"
   ]
  },
  {
   "cell_type": "code",
   "execution_count": 29,
   "id": "489289bc",
   "metadata": {},
   "outputs": [
    {
     "name": "stdout",
     "output_type": "stream",
     "text": [
      "212.24159999999998\n"
     ]
    }
   ],
   "source": [
    "print(v)"
   ]
  },
  {
   "cell_type": "code",
   "execution_count": 30,
   "id": "69ffe6df",
   "metadata": {},
   "outputs": [
    {
     "name": "stdout",
     "output_type": "stream",
     "text": [
      "helloworlds\n"
     ]
    }
   ],
   "source": [
    "s1 = \"hello\"\n",
    "s2 = \"worlds\"\n",
    "s = s1 + s2 \n",
    "print(s)"
   ]
  },
  {
   "cell_type": "code",
   "execution_count": 31,
   "id": "6446ccd1",
   "metadata": {},
   "outputs": [
    {
     "data": {
      "text/plain": [
       "3"
      ]
     },
     "execution_count": 31,
     "metadata": {},
     "output_type": "execute_result"
    }
   ],
   "source": [
    "10//3\n"
   ]
  },
  {
   "cell_type": "code",
   "execution_count": 32,
   "id": "b8cd7160",
   "metadata": {},
   "outputs": [
    {
     "data": {
      "text/plain": [
       "3.3333333333333335"
      ]
     },
     "execution_count": 32,
     "metadata": {},
     "output_type": "execute_result"
    }
   ],
   "source": [
    "10/3"
   ]
  },
  {
   "cell_type": "code",
   "execution_count": 33,
   "id": "77f58628",
   "metadata": {},
   "outputs": [
    {
     "data": {
      "text/plain": [
       "3.3333333333333335"
      ]
     },
     "execution_count": 33,
     "metadata": {},
     "output_type": "execute_result"
    }
   ],
   "source": [
    "_\n",
    "#default last known not saved"
   ]
  },
  {
   "cell_type": "markdown",
   "id": "1d84ec40",
   "metadata": {},
   "source": [
    "#var naming\n",
    "no num at front\n",
    "no special symbol except _\n",
    "no stored function name"
   ]
  },
  {
   "cell_type": "code",
   "execution_count": 1,
   "id": "cea115de",
   "metadata": {},
   "outputs": [],
   "source": [
    "_e = 6"
   ]
  },
  {
   "cell_type": "code",
   "execution_count": 2,
   "id": "6cc6de71",
   "metadata": {},
   "outputs": [],
   "source": [
    "startingTimeOfLecture = 2.5"
   ]
  },
  {
   "cell_type": "code",
   "execution_count": 3,
   "id": "0151ceab",
   "metadata": {},
   "outputs": [
    {
     "name": "stdout",
     "output_type": "stream",
     "text": [
      "Variable                Type     Data/Info\n",
      "------------------------------------------\n",
      "startingTimeOfLecture   float    2.5\n"
     ]
    }
   ],
   "source": [
    "%whos"
   ]
  },
  {
   "cell_type": "markdown",
   "id": "96f9e8c4",
   "metadata": {},
   "source": [
    "# Comparisons"
   ]
  },
  {
   "cell_type": "markdown",
   "id": "770dd8fe",
   "metadata": {},
   "source": [
    "== true if equal\n",
    "!= true if not equal\n",
    "< less than\n",
    "> more than\n",
    "<= less than or equal to\n",
    ">= greater than or equal to\n",
    "\n",
    "\n",
    "and (both true than true, both false than true ) 111,001\n",
    "\n",
    "or (both true than false, both false than false) 011,101\n",
    "\n",
    "not (inverse)"
   ]
  },
  {
   "cell_type": "markdown",
   "id": "2f81b587",
   "metadata": {},
   "source": [
    "# Bool\n"
   ]
  },
  {
   "cell_type": "code",
   "execution_count": 4,
   "id": "aabb3f14",
   "metadata": {},
   "outputs": [],
   "source": [
    "a = True\n",
    "b = True\n",
    "c = False"
   ]
  },
  {
   "cell_type": "code",
   "execution_count": 6,
   "id": "5c6f0d20",
   "metadata": {},
   "outputs": [
    {
     "name": "stdout",
     "output_type": "stream",
     "text": [
      "True\n",
      "False\n",
      "False\n"
     ]
    }
   ],
   "source": [
    "print(a and b)\n",
    "print(a and c)\n",
    "print(c and a)"
   ]
  },
  {
   "cell_type": "code",
   "execution_count": 7,
   "id": "7084072f",
   "metadata": {},
   "outputs": [],
   "source": [
    " d = a or c"
   ]
  },
  {
   "cell_type": "code",
   "execution_count": 8,
   "id": "b0927b6d",
   "metadata": {},
   "outputs": [
    {
     "name": "stdout",
     "output_type": "stream",
     "text": [
      "True\n"
     ]
    }
   ],
   "source": [
    "print(d)"
   ]
  },
  {
   "cell_type": "code",
   "execution_count": 9,
   "id": "b56c0b95",
   "metadata": {},
   "outputs": [
    {
     "data": {
      "text/plain": [
       "False"
      ]
     },
     "execution_count": 9,
     "metadata": {},
     "output_type": "execute_result"
    }
   ],
   "source": [
    "not(b)"
   ]
  },
  {
   "cell_type": "code",
   "execution_count": 10,
   "id": "79e05235",
   "metadata": {},
   "outputs": [
    {
     "data": {
      "text/plain": [
       "True"
      ]
     },
     "execution_count": 10,
     "metadata": {},
     "output_type": "execute_result"
    }
   ],
   "source": [
    "not(c)"
   ]
  },
  {
   "cell_type": "code",
   "execution_count": 12,
   "id": "589dbaa2",
   "metadata": {},
   "outputs": [],
   "source": [
    "t = not(b)"
   ]
  },
  {
   "cell_type": "code",
   "execution_count": 13,
   "id": "f5d7ff8a",
   "metadata": {},
   "outputs": [
    {
     "data": {
      "text/plain": [
       "bool"
      ]
     },
     "execution_count": 13,
     "metadata": {},
     "output_type": "execute_result"
    }
   ],
   "source": [
    "type(t)"
   ]
  },
  {
   "cell_type": "code",
   "execution_count": 14,
   "id": "b04e4b22",
   "metadata": {},
   "outputs": [
    {
     "name": "stdout",
     "output_type": "stream",
     "text": [
      "False\n"
     ]
    }
   ],
   "source": [
    "print(t)"
   ]
  },
  {
   "cell_type": "code",
   "execution_count": 15,
   "id": "d47f260d",
   "metadata": {},
   "outputs": [
    {
     "data": {
      "text/plain": [
       "False"
      ]
     },
     "execution_count": 15,
     "metadata": {},
     "output_type": "execute_result"
    }
   ],
   "source": [
    "not((a and b) or (c or d))"
   ]
  },
  {
   "cell_type": "markdown",
   "id": "3645b22d",
   "metadata": {},
   "source": [
    "# Comparisons"
   ]
  },
  {
   "cell_type": "code",
   "execution_count": 16,
   "id": "47515da0",
   "metadata": {},
   "outputs": [
    {
     "name": "stdout",
     "output_type": "stream",
     "text": [
      "True\n"
     ]
    }
   ],
   "source": [
    "print(2<3)"
   ]
  },
  {
   "cell_type": "code",
   "execution_count": 17,
   "id": "775bf30c",
   "metadata": {},
   "outputs": [],
   "source": [
    "c = 2<3"
   ]
  },
  {
   "cell_type": "code",
   "execution_count": 20,
   "id": "c3d3f38e",
   "metadata": {},
   "outputs": [
    {
     "name": "stdout",
     "output_type": "stream",
     "text": [
      "<class 'bool'>\n",
      "True\n"
     ]
    }
   ],
   "source": [
    "print(type(c))\n",
    "print(c)"
   ]
  },
  {
   "cell_type": "code",
   "execution_count": 21,
   "id": "a18c01ed",
   "metadata": {},
   "outputs": [],
   "source": [
    "d = 3==4"
   ]
  },
  {
   "cell_type": "code",
   "execution_count": 22,
   "id": "a2cb7e71",
   "metadata": {},
   "outputs": [
    {
     "name": "stdout",
     "output_type": "stream",
     "text": [
      "False\n"
     ]
    }
   ],
   "source": [
    "print(d)"
   ]
  },
  {
   "cell_type": "code",
   "execution_count": 23,
   "id": "7c8a3a28",
   "metadata": {},
   "outputs": [
    {
     "data": {
      "text/plain": [
       "True"
      ]
     },
     "execution_count": 23,
     "metadata": {},
     "output_type": "execute_result"
    }
   ],
   "source": [
    "3 == 3.0"
   ]
  },
  {
   "cell_type": "code",
   "execution_count": 24,
   "id": "7e6f258a",
   "metadata": {},
   "outputs": [],
   "source": [
    "x = 4\n",
    "y = 9\n",
    "z = 8.3\n",
    "r = -3"
   ]
  },
  {
   "cell_type": "code",
   "execution_count": 26,
   "id": "7e77a384",
   "metadata": {},
   "outputs": [
    {
     "data": {
      "text/plain": [
       "True"
      ]
     },
     "execution_count": 26,
     "metadata": {},
     "output_type": "execute_result"
    }
   ],
   "source": [
    "(x<y) and (z<y) or (r==x)"
   ]
  },
  {
   "cell_type": "code",
   "execution_count": 27,
   "id": "dbd5b896",
   "metadata": {},
   "outputs": [
    {
     "data": {
      "text/plain": [
       "True"
      ]
     },
     "execution_count": 27,
     "metadata": {},
     "output_type": "execute_result"
    }
   ],
   "source": [
    "(x<y) and (r==x) or (z<y)"
   ]
  },
  {
   "cell_type": "code",
   "execution_count": 28,
   "id": "d7703def",
   "metadata": {},
   "outputs": [
    {
     "data": {
      "text/plain": [
       "False"
      ]
     },
     "execution_count": 28,
     "metadata": {},
     "output_type": "execute_result"
    }
   ],
   "source": [
    "(True or False) and False"
   ]
  },
  {
   "cell_type": "code",
   "execution_count": 29,
   "id": "d21bb053",
   "metadata": {},
   "outputs": [
    {
     "name": "stdout",
     "output_type": "stream",
     "text": [
      "False\n"
     ]
    }
   ],
   "source": [
    "print((not(2!=3)and True) or (False and true))"
   ]
  },
  {
   "cell_type": "markdown",
   "id": "e105142c",
   "metadata": {},
   "source": [
    "### some useful function"
   ]
  },
  {
   "cell_type": "code",
   "execution_count": null,
   "id": "a3d1d5b6",
   "metadata": {},
   "outputs": [],
   "source": [
    "#round()"
   ]
  },
  {
   "cell_type": "code",
   "execution_count": 30,
   "id": "aba16506",
   "metadata": {},
   "outputs": [
    {
     "name": "stdout",
     "output_type": "stream",
     "text": [
      "5\n"
     ]
    }
   ],
   "source": [
    "print(round(4.556))"
   ]
  },
  {
   "cell_type": "code",
   "execution_count": 31,
   "id": "e9629055",
   "metadata": {},
   "outputs": [
    {
     "name": "stdout",
     "output_type": "stream",
     "text": [
      "3\n"
     ]
    }
   ],
   "source": [
    "print(round(3.345))"
   ]
  },
  {
   "cell_type": "code",
   "execution_count": 32,
   "id": "84b23a47",
   "metadata": {},
   "outputs": [
    {
     "name": "stdout",
     "output_type": "stream",
     "text": [
      "4.56\n"
     ]
    }
   ],
   "source": [
    "print(round(4.556789,2))"
   ]
  },
  {
   "cell_type": "code",
   "execution_count": 33,
   "id": "d8bfb50d",
   "metadata": {},
   "outputs": [
    {
     "name": "stdout",
     "output_type": "stream",
     "text": [
      "4.557\n"
     ]
    }
   ],
   "source": [
    "print(round(4.556789,3))"
   ]
  },
  {
   "cell_type": "code",
   "execution_count": 34,
   "id": "6ad9e0cf",
   "metadata": {},
   "outputs": [],
   "source": [
    "#divmod(x,y)"
   ]
  },
  {
   "cell_type": "code",
   "execution_count": 38,
   "id": "33fd6569",
   "metadata": {},
   "outputs": [],
   "source": [
    "g = divmod(34,9)"
   ]
  },
  {
   "cell_type": "code",
   "execution_count": 39,
   "id": "b80364de",
   "metadata": {},
   "outputs": [
    {
     "name": "stdout",
     "output_type": "stream",
     "text": [
      "<class 'tuple'>\n"
     ]
    }
   ],
   "source": [
    "print(type(g))"
   ]
  },
  {
   "cell_type": "code",
   "execution_count": 41,
   "id": "24b735f7",
   "metadata": {},
   "outputs": [
    {
     "name": "stdout",
     "output_type": "stream",
     "text": [
      "(3, 7)\n"
     ]
    }
   ],
   "source": [
    "print(g)"
   ]
  },
  {
   "cell_type": "code",
   "execution_count": 45,
   "id": "debdf4c3",
   "metadata": {},
   "outputs": [
    {
     "name": "stdout",
     "output_type": "stream",
     "text": [
      "3\n",
      "7\n"
     ]
    }
   ],
   "source": [
    "print(g[0])\n",
    "print(g[1])\n"
   ]
  },
  {
   "cell_type": "code",
   "execution_count": 47,
   "id": "d34892a1",
   "metadata": {},
   "outputs": [
    {
     "data": {
      "text/plain": [
       "3"
      ]
     },
     "execution_count": 47,
     "metadata": {},
     "output_type": "execute_result"
    }
   ],
   "source": [
    "34//9 #same as above"
   ]
  },
  {
   "cell_type": "code",
   "execution_count": 48,
   "id": "16465aca",
   "metadata": {},
   "outputs": [],
   "source": [
    "#isinstance()"
   ]
  },
  {
   "cell_type": "code",
   "execution_count": 51,
   "id": "816ce3cb",
   "metadata": {},
   "outputs": [
    {
     "data": {
      "text/plain": [
       "True"
      ]
     },
     "execution_count": 51,
     "metadata": {},
     "output_type": "execute_result"
    }
   ],
   "source": [
    "isinstance(3,int) #is 3 int?"
   ]
  },
  {
   "cell_type": "code",
   "execution_count": 52,
   "id": "84621e0b",
   "metadata": {},
   "outputs": [
    {
     "data": {
      "text/plain": [
       "True"
      ]
     },
     "execution_count": 52,
     "metadata": {},
     "output_type": "execute_result"
    }
   ],
   "source": [
    "isinstance(3.4,(float,int))"
   ]
  },
  {
   "cell_type": "code",
   "execution_count": 54,
   "id": "3745190a",
   "metadata": {},
   "outputs": [
    {
     "data": {
      "text/plain": [
       "True"
      ]
     },
     "execution_count": 54,
     "metadata": {},
     "output_type": "execute_result"
    }
   ],
   "source": [
    "isinstance(2+3j,(int,float,str,complex))"
   ]
  },
  {
   "cell_type": "code",
   "execution_count": 55,
   "id": "731b53ea",
   "metadata": {},
   "outputs": [],
   "source": [
    "#pow()"
   ]
  },
  {
   "cell_type": "code",
   "execution_count": 56,
   "id": "59befa5d",
   "metadata": {},
   "outputs": [
    {
     "data": {
      "text/plain": [
       "16"
      ]
     },
     "execution_count": 56,
     "metadata": {},
     "output_type": "execute_result"
    }
   ],
   "source": [
    "pow(2,4)"
   ]
  },
  {
   "cell_type": "code",
   "execution_count": 57,
   "id": "11d5ddf8",
   "metadata": {},
   "outputs": [
    {
     "data": {
      "text/plain": [
       "16"
      ]
     },
     "execution_count": 57,
     "metadata": {},
     "output_type": "execute_result"
    }
   ],
   "source": [
    "2**4 #same as above"
   ]
  },
  {
   "cell_type": "code",
   "execution_count": 58,
   "id": "51d53a51",
   "metadata": {},
   "outputs": [
    {
     "data": {
      "text/plain": [
       "2"
      ]
     },
     "execution_count": 58,
     "metadata": {},
     "output_type": "execute_result"
    }
   ],
   "source": [
    "pow(2,4,7)  #(x^y)%Z"
   ]
  },
  {
   "cell_type": "code",
   "execution_count": 59,
   "id": "edba837e",
   "metadata": {},
   "outputs": [],
   "source": [
    "#input()"
   ]
  },
  {
   "cell_type": "code",
   "execution_count": 64,
   "id": "b9a4eaf0",
   "metadata": {},
   "outputs": [
    {
     "name": "stdout",
     "output_type": "stream",
     "text": [
      "enter a number : 56\n"
     ]
    }
   ],
   "source": [
    "x = input(\"enter a number : \")\n"
   ]
  },
  {
   "cell_type": "code",
   "execution_count": 65,
   "id": "f631bd26",
   "metadata": {},
   "outputs": [
    {
     "data": {
      "text/plain": [
       "str"
      ]
     },
     "execution_count": 65,
     "metadata": {},
     "output_type": "execute_result"
    }
   ],
   "source": [
    "type(x)"
   ]
  },
  {
   "cell_type": "code",
   "execution_count": 66,
   "id": "29e42784",
   "metadata": {},
   "outputs": [],
   "source": [
    "x = int(x)"
   ]
  },
  {
   "cell_type": "code",
   "execution_count": 67,
   "id": "b4a6798b",
   "metadata": {},
   "outputs": [
    {
     "data": {
      "text/plain": [
       "int"
      ]
     },
     "execution_count": 67,
     "metadata": {},
     "output_type": "execute_result"
    }
   ],
   "source": [
    "type(x)"
   ]
  },
  {
   "cell_type": "code",
   "execution_count": 68,
   "id": "503f7476",
   "metadata": {},
   "outputs": [
    {
     "name": "stdout",
     "output_type": "stream",
     "text": [
      "enter a real number : 546\n"
     ]
    }
   ],
   "source": [
    "a = float(input(\"enter a real number : \"))"
   ]
  },
  {
   "cell_type": "code",
   "execution_count": 69,
   "id": "0c7563ca",
   "metadata": {},
   "outputs": [
    {
     "data": {
      "text/plain": [
       "float"
      ]
     },
     "execution_count": 69,
     "metadata": {},
     "output_type": "execute_result"
    }
   ],
   "source": [
    "type(a)"
   ]
  },
  {
   "cell_type": "code",
   "execution_count": 70,
   "id": "41b6140a",
   "metadata": {},
   "outputs": [
    {
     "name": "stdout",
     "output_type": "stream",
     "text": [
      "enter a real number : avc\n"
     ]
    },
    {
     "ename": "ValueError",
     "evalue": "could not convert string to float: 'avc'",
     "output_type": "error",
     "traceback": [
      "\u001b[1;31m---------------------------------------------------------------------------\u001b[0m",
      "\u001b[1;31mValueError\u001b[0m                                Traceback (most recent call last)",
      "\u001b[1;32m~\\AppData\\Local\\Temp/ipykernel_8328/2245819575.py\u001b[0m in \u001b[0;36m<module>\u001b[1;34m\u001b[0m\n\u001b[1;32m----> 1\u001b[1;33m \u001b[0ma\u001b[0m \u001b[1;33m=\u001b[0m \u001b[0mfloat\u001b[0m\u001b[1;33m(\u001b[0m\u001b[0minput\u001b[0m\u001b[1;33m(\u001b[0m\u001b[1;34m\"enter a real number : \"\u001b[0m\u001b[1;33m)\u001b[0m\u001b[1;33m)\u001b[0m\u001b[1;33m\u001b[0m\u001b[1;33m\u001b[0m\u001b[0m\n\u001b[0m",
      "\u001b[1;31mValueError\u001b[0m: could not convert string to float: 'avc'"
     ]
    }
   ],
   "source": [
    "a = float(input(\"enter a real number : \"))"
   ]
  },
  {
   "cell_type": "code",
   "execution_count": 71,
   "id": "cf9680dd",
   "metadata": {},
   "outputs": [],
   "source": [
    "#how to use function"
   ]
  },
  {
   "cell_type": "code",
   "execution_count": 72,
   "id": "3e56aec0",
   "metadata": {},
   "outputs": [],
   "source": [
    "pow?"
   ]
  },
  {
   "cell_type": "code",
   "execution_count": 73,
   "id": "510286ae",
   "metadata": {},
   "outputs": [],
   "source": [
    "#how to see implementation"
   ]
  },
  {
   "cell_type": "code",
   "execution_count": 74,
   "id": "64fc13a2",
   "metadata": {},
   "outputs": [],
   "source": [
    "pow??"
   ]
  },
  {
   "cell_type": "code",
   "execution_count": 75,
   "id": "3d82a7cb",
   "metadata": {},
   "outputs": [
    {
     "name": "stdout",
     "output_type": "stream",
     "text": [
      "Help on built-in function pow in module builtins:\n",
      "\n",
      "pow(base, exp, mod=None)\n",
      "    Equivalent to base**exp with 2 arguments or base**exp % mod with 3 arguments\n",
      "    \n",
      "    Some types, such as ints, are able to use a more efficient algorithm when\n",
      "    invoked using the three argument form.\n",
      "\n"
     ]
    }
   ],
   "source": [
    "help(pow)"
   ]
  },
  {
   "cell_type": "code",
   "execution_count": null,
   "id": "8c038687",
   "metadata": {},
   "outputs": [],
   "source": [
    "#input()"
   ]
  },
  {
   "cell_type": "code",
   "execution_count": 76,
   "id": "7f919e75",
   "metadata": {},
   "outputs": [
    {
     "name": "stdout",
     "output_type": "stream",
     "text": [
      "1\n",
      "2\n",
      "2\n"
     ]
    }
   ],
   "source": [
    "a = int(input())\n",
    "b = int(input())\n",
    "\n",
    "#print bigger num only\n",
    "\n",
    "if a > b:\n",
    "    print(a)\n",
    "else:\n",
    "    print(b)\n"
   ]
  },
  {
   "cell_type": "code",
   "execution_count": 77,
   "id": "47c59ff8",
   "metadata": {},
   "outputs": [
    {
     "name": "stdout",
     "output_type": "stream",
     "text": [
      "1\n",
      "2\n",
      "i am outside the if condition\n"
     ]
    }
   ],
   "source": [
    "a = int(input())\n",
    "b = int(input())\n",
    "if a>b:\n",
    "    print(a)\n",
    "    print(\"i am still inside if condition\")\n",
    "    x=5\n",
    "print(\"i am outside the if condition\")"
   ]
  },
  {
   "cell_type": "code",
   "execution_count": 78,
   "id": "ba0a53f3",
   "metadata": {},
   "outputs": [
    {
     "name": "stdout",
     "output_type": "stream",
     "text": [
      "10\n",
      "45\n",
      "45\n"
     ]
    }
   ],
   "source": [
    "a = int(input())\n",
    "b = int(input())\n",
    "if a>b:\n",
    "    print(a)\n",
    "if b>a:\n",
    "    print(b)"
   ]
  },
  {
   "cell_type": "code",
   "execution_count": 80,
   "id": "7f5adb05",
   "metadata": {},
   "outputs": [
    {
     "name": "stdout",
     "output_type": "stream",
     "text": [
      "1\n",
      "2\n",
      "2\n",
      "else part\n"
     ]
    }
   ],
   "source": [
    "a = int(input())\n",
    "b = int(input())\n",
    "if a>b:\n",
    "    print(a)\n",
    "    print(\"if part\")\n",
    "else:\n",
    "    print(b)\n",
    "    print(\"else part\")"
   ]
  },
  {
   "cell_type": "code",
   "execution_count": 86,
   "id": "4fffefc8",
   "metadata": {},
   "outputs": [
    {
     "name": "stdout",
     "output_type": "stream",
     "text": [
      "B\n",
      "not in if\n"
     ]
    }
   ],
   "source": [
    "a = 1 \n",
    "b = 5\n",
    "if a==b:\n",
    "    print(\"equal\")\n",
    "elif a>b:\n",
    "    print(\"A\")\n",
    "else:\n",
    "    print(\"B\")\n",
    "print(\"not in if\")"
   ]
  },
  {
   "cell_type": "code",
   "execution_count": 87,
   "id": "a852216f",
   "metadata": {},
   "outputs": [
    {
     "name": "stdout",
     "output_type": "stream",
     "text": [
      "B\n"
     ]
    }
   ],
   "source": [
    "#alternate version of coding horizontal\n",
    "a = 9\n",
    "b =10\n",
    "print(\"A\") if a > b else print(\"=\") if a == b else print(\"B\")"
   ]
  },
  {
   "cell_type": "code",
   "execution_count": 90,
   "id": "2ebd4b98",
   "metadata": {},
   "outputs": [
    {
     "name": "stdout",
     "output_type": "stream",
     "text": [
      "enter marks : 19\n",
      "below average\n"
     ]
    }
   ],
   "source": [
    "a = int(input(\"enter marks : \"))\n",
    "\n",
    "if a >= 80:\n",
    "    print(\"A grade\")\n",
    "elif (a < 80) and (a >= 80):\n",
    "    print(\"A- grade \")\n",
    "elif (a < 80) and (a >= 75):\n",
    "    print(\"B grade\")\n",
    "elif (a < 75 and a >= 70):\n",
    "    print(\"B- grade\")\n",
    "else:\n",
    "    print(\"below average\")"
   ]
  },
  {
   "cell_type": "code",
   "execution_count": 92,
   "id": "cda223ba",
   "metadata": {},
   "outputs": [
    {
     "name": "stdout",
     "output_type": "stream",
     "text": [
      "else part\n"
     ]
    }
   ],
   "source": [
    "#using not in place of else\n",
    "a = 3\n",
    "\n",
    "if a > 10:\n",
    "    print(\" > 10 \")\n",
    "elif not(a > 10):\n",
    "    print(\"else part\")"
   ]
  },
  {
   "cell_type": "code",
   "execution_count": 97,
   "id": "a4355c57",
   "metadata": {},
   "outputs": [
    {
     "name": "stdout",
     "output_type": "stream",
     "text": [
      "enter a number : 12\n",
      " > 10\n",
      " inside the top if\n",
      "<=20\n",
      "inside the else part of nested if\n",
      "outside all ifs\n"
     ]
    }
   ],
   "source": [
    "#control flow (nested if)\n",
    "\n",
    "a = int(input(\"enter a number : \"))\n",
    "\n",
    "if a > 10:\n",
    "    print(\" > 10\")\n",
    "    print(\" inside the top if\")\n",
    "    if a > 20:\n",
    "        print(\"> 20\")\n",
    "        print(\"inside the nested if\")\n",
    "    else:\n",
    "        print(\"<=20\")\n",
    "        print(\"inside the else part of nested if\")\n",
    "print(\"outside all ifs\")"
   ]
  },
  {
   "cell_type": "code",
   "execution_count": 99,
   "id": "0c92c6bb",
   "metadata": {},
   "outputs": [
    {
     "name": "stdout",
     "output_type": "stream",
     "text": [
      "enter a number : 25\n",
      " > 10\n",
      " inside the top if\n",
      "> 20\n",
      "inside the nested if\n",
      " <= 30\n",
      "inside the else part of nested if of nested if\n",
      "outside all ifs\n"
     ]
    }
   ],
   "source": [
    "a = int(input(\"enter a number : \"))\n",
    "\n",
    "if a > 10:\n",
    "    print(\" > 10\")\n",
    "    print(\" inside the top if\")\n",
    "    if a > 20:\n",
    "        print(\"> 20\")\n",
    "        print(\"inside the nested if\")\n",
    "        if a > 30:\n",
    "            print(\" > 30 \")\n",
    "            print(\" inside the nested if of nested if \")\n",
    "        else:\n",
    "            print(\" <= 30\")\n",
    "            print(\"inside the else part of nested if of nested if\")\n",
    "    else:\n",
    "        print(\"<=20\")\n",
    "        print(\"inside the else part of nested if\")\n",
    "print(\"outside all ifs\")"
   ]
  },
  {
   "cell_type": "markdown",
   "id": "b8d14b6b",
   "metadata": {},
   "source": [
    "# comment\n"
   ]
  },
  {
   "cell_type": "code",
   "execution_count": 103,
   "id": "47cc16f1",
   "metadata": {},
   "outputs": [
    {
     "data": {
      "text/plain": [
       "'\\nmulti line comment\\n'"
      ]
     },
     "execution_count": 103,
     "metadata": {},
     "output_type": "execute_result"
    }
   ],
   "source": [
    "# single line comment\n",
    "\n",
    "\"\"\"\n",
    "multi line comment\n",
    "\"\"\"\n"
   ]
  },
  {
   "cell_type": "code",
   "execution_count": 8,
   "id": "d856c462",
   "metadata": {},
   "outputs": [
    {
     "name": "stdout",
     "output_type": "stream",
     "text": [
      "enter a real number :123.4\n",
      "123  odd\n"
     ]
    }
   ],
   "source": [
    "x = float(input(\"enter a real number :\"))\n",
    "y = round(x)\n",
    "if x > 0:\n",
    "    if y>x:\n",
    "        intPortion = y - 1\n",
    "    else:\n",
    "        intPortion = y\n",
    "else:\n",
    "    if y<x:\n",
    "        intPortion = y+1\n",
    "    else:\n",
    "        intPortion = y\n",
    "\n",
    "if intPortion%2 == 0:\n",
    "    print(intPortion , \"is  even\")\n",
    "else:\n",
    "    print(intPortion, \"is  odd\")"
   ]
  },
  {
   "cell_type": "markdown",
   "id": "08cd1527",
   "metadata": {},
   "source": [
    "# loops"
   ]
  },
  {
   "cell_type": "code",
   "execution_count": 12,
   "id": "489e4009",
   "metadata": {},
   "outputs": [
    {
     "name": "stdout",
     "output_type": "stream",
     "text": [
      "10\n",
      "1\n",
      "this is iteration number :  1\n",
      "4\n",
      "this is iteration number :  2\n",
      "9\n",
      "this is iteration number :  3\n",
      "16\n",
      "this is iteration number :  4\n",
      "25\n",
      "this is iteration number :  5\n",
      "36\n",
      "this is iteration number :  6\n",
      "49\n",
      "this is iteration number :  7\n",
      "64\n",
      "this is iteration number :  8\n",
      "81\n",
      "this is iteration number :  9\n",
      "loop end\n"
     ]
    }
   ],
   "source": [
    "#while\n",
    "\n",
    "n= int(input())\n",
    "i =1\n",
    "while i < n:\n",
    "    print(i**2)\n",
    "    print(\"this is iteration number : \", i)\n",
    "    i+=1\n",
    "print(\"loop end\")"
   ]
  },
  {
   "cell_type": "code",
   "execution_count": 13,
   "id": "d44c1d27",
   "metadata": {},
   "outputs": [],
   "source": [
    "#loops break/continue"
   ]
  },
  {
   "cell_type": "code",
   "execution_count": 15,
   "id": "b69781d8",
   "metadata": {},
   "outputs": [
    {
     "name": "stdout",
     "output_type": "stream",
     "text": [
      "inside else\n",
      "inside else\n",
      "inside else\n",
      "inside else\n",
      "inside else\n",
      "inside else\n",
      "inside else\n",
      "inside else\n",
      "inside if\n",
      "loop end\n"
     ]
    }
   ],
   "source": [
    "n = 10\n",
    "i = 1\n",
    "while True:\n",
    "    if i % 9 == 0:\n",
    "        print(\"inside if\")\n",
    "        break\n",
    "    else:\n",
    "        i += 1\n",
    "        print(\"inside else\")\n",
    "print(\"loop end\")"
   ]
  },
  {
   "cell_type": "code",
   "execution_count": 1,
   "id": "3fa9798b",
   "metadata": {},
   "outputs": [
    {
     "name": "stdout",
     "output_type": "stream",
     "text": [
      "inside if\n",
      "inside if\n",
      "inside if\n",
      "inside if\n",
      "inside if\n",
      "inside if\n",
      "inside if\n",
      "inside if\n",
      "something\n",
      "something else\n",
      "done\n"
     ]
    }
   ],
   "source": [
    "n = 10\n",
    "i = 1\n",
    "while True:\n",
    "    if i % 9 != 0:\n",
    "        print(\"inside if\")\n",
    "        i += 1\n",
    "        continue\n",
    "    print(\"something\")\n",
    "    print(\"something else\")\n",
    "    break\n",
    "    \n",
    "print(\"done\")"
   ]
  },
  {
   "cell_type": "code",
   "execution_count": 2,
   "id": "b1fcde17",
   "metadata": {},
   "outputs": [],
   "source": [
    "#for loop"
   ]
  },
  {
   "cell_type": "code",
   "execution_count": 8,
   "id": "5a063b02",
   "metadata": {},
   "outputs": [
    {
     "name": "stdout",
     "output_type": "stream",
     "text": [
      "1\n",
      "3\n",
      "5\n",
      "7\n",
      "9\n",
      "[0, 4, 16, 36, 64]\n"
     ]
    }
   ],
   "source": [
    "L = [] #list\n",
    "for i in range(0,10,2): #start with 0 to 10 with 2 jumps\n",
    "    print(i+1)\n",
    "    L.append(i**2)\n",
    "print(L)"
   ]
  },
  {
   "cell_type": "code",
   "execution_count": 13,
   "id": "624cdf94",
   "metadata": {},
   "outputs": [
    {
     "name": "stdout",
     "output_type": "stream",
     "text": [
      "cherry\n",
      "4.7\n",
      "outside of loops\n"
     ]
    }
   ],
   "source": [
    "#else in for loops\n",
    "s = {\"apples\",4.7,\"cherry\"} \n",
    "i = 1\n",
    "\n",
    "for x in s:\n",
    "    print(x)\n",
    "    i += 1\n",
    "    if i==3:\n",
    "        break\n",
    "    else:\n",
    "        pass\n",
    "else:\n",
    "    print(\"loops completed\")\n",
    "    \n",
    "print(\"outside of loops\")"
   ]
  },
  {
   "cell_type": "code",
   "execution_count": 15,
   "id": "49f90e3f",
   "metadata": {},
   "outputs": [
    {
     "name": "stdout",
     "output_type": "stream",
     "text": [
      "A 10\n",
      "B -19\n",
      "C abc\n"
     ]
    }
   ],
   "source": [
    "D = {\"A\":10,\"B\":-19,\"C\":\"abc\"} #dictionary\n",
    "for x in D:\n",
    "    print(x,D[x])"
   ]
  },
  {
   "cell_type": "code",
   "execution_count": 23,
   "id": "91260e75",
   "metadata": {},
   "outputs": [
    {
     "name": "stdout",
     "output_type": "stream",
     "text": [
      "[-5, 1, 2, 2, 3, 4, 7, 9]\n"
     ]
    }
   ],
   "source": [
    "\"\"\"\n",
    "given a list of numbers i.e [1,2,4,-5,7,9,3,2], make another list that contains all the items in sorted order from min to max. ie your result will be another list like [-5,1,2,2,3,7,9]\n",
    "\"\"\"\n",
    "L= [1,2,4,-5,7,9,3,2]\n",
    "for j in range(len(L)):\n",
    "    m = L[j]\n",
    "    idx = j\n",
    "    c = j\n",
    "    for i in range(j, len(L)):\n",
    "        if L[i] < m:\n",
    "            m = L[i]\n",
    "            idx = c\n",
    "        c += 1\n",
    "    tmp = L[j]\n",
    "    L[j] = m\n",
    "    L[idx] = tmp\n",
    "print(L)\n",
    "\n",
    "\n",
    "#create method to find min first\n",
    "#how to make min save to lowest index\n",
    "#loop for whole list"
   ]
  },
  {
   "cell_type": "code",
   "execution_count": 25,
   "id": "cbfb787f",
   "metadata": {},
   "outputs": [],
   "source": [
    "#functions\n",
    "\n",
    "def printSuccess():\n",
    "    print(\"i am done\")\n",
    "    print(\"send me another task\")"
   ]
  },
  {
   "cell_type": "code",
   "execution_count": 26,
   "id": "d49e0598",
   "metadata": {},
   "outputs": [
    {
     "name": "stdout",
     "output_type": "stream",
     "text": [
      "i am done\n",
      "send me another task\n"
     ]
    }
   ],
   "source": [
    "printSuccess()"
   ]
  },
  {
   "cell_type": "code",
   "execution_count": 43,
   "id": "69654dfb",
   "metadata": {},
   "outputs": [],
   "source": [
    "def printSuccess2(): #shows the use of \"\"\" \"\"\" in function as info in docstring\n",
    "    \"\"\"\n",
    "    this functions is gonna be lit\n",
    "    \n",
    "    \"\"\"\n",
    "    \n",
    "    print(\"probably\")\n",
    " #see the docstring"
   ]
  },
  {
   "cell_type": "code",
   "execution_count": 44,
   "id": "bec240f4",
   "metadata": {},
   "outputs": [
    {
     "ename": "SyntaxError",
     "evalue": "invalid syntax (Temp/ipykernel_1088/3813902761.py, line 1)",
     "output_type": "error",
     "traceback": [
      "\u001b[1;36m  File \u001b[1;32m\"C:\\Users\\Mell\\AppData\\Local\\Temp/ipykernel_1088/3813902761.py\"\u001b[1;36m, line \u001b[1;32m1\u001b[0m\n\u001b[1;33m    printSuccess2?\u001b[0m\n\u001b[1;37m                 ^\u001b[0m\n\u001b[1;31mSyntaxError\u001b[0m\u001b[1;31m:\u001b[0m invalid syntax\n"
     ]
    }
   ],
   "source": [
    "printSuccess2?    \" alt is printSuccess??\""
   ]
  },
  {
   "cell_type": "code",
   "execution_count": 45,
   "id": "bec87998",
   "metadata": {},
   "outputs": [],
   "source": [
    "len?"
   ]
  },
  {
   "cell_type": "code",
   "execution_count": 46,
   "id": "b8c4c620",
   "metadata": {},
   "outputs": [],
   "source": [
    "len?? #if both same ? and ?? probbly function is implemented from c not ntive pythn"
   ]
  },
  {
   "cell_type": "code",
   "execution_count": 47,
   "id": "7dda3cd9",
   "metadata": {},
   "outputs": [
    {
     "name": "stdout",
     "output_type": "stream",
     "text": [
      "Help on function printSuccess2 in module __main__:\n",
      "\n",
      "printSuccess2()\n",
      "    this functions is gonna be lit\n",
      "\n"
     ]
    }
   ],
   "source": [
    "help(printSuccess2)"
   ]
  },
  {
   "cell_type": "code",
   "execution_count": 57,
   "id": "5da8e83e",
   "metadata": {},
   "outputs": [],
   "source": [
    "#function input argument\n",
    "def printMsg(msg):\n",
    "    \n",
    "    \"\"\"\n",
    "    the function prints the message supplied by the user or prints that msg is not in the form of string\n",
    "    \"\"\"\n",
    "    if isinstance(msg,str):\n",
    "        print(msg)\n",
    "    else:\n",
    "        print(\"your input argument is not a string\")\n",
    "        print(\"your input argument is \", msg)"
   ]
  },
  {
   "cell_type": "code",
   "execution_count": 58,
   "id": "f8fa0d9a",
   "metadata": {},
   "outputs": [
    {
     "name": "stdout",
     "output_type": "stream",
     "text": [
      "your input argument is not a string\n",
      "your input argument is  23\n"
     ]
    }
   ],
   "source": [
    "printMsg(23)"
   ]
  },
  {
   "cell_type": "code",
   "execution_count": 56,
   "id": "9190143c",
   "metadata": {},
   "outputs": [],
   "source": [
    "isinstance??"
   ]
  },
  {
   "cell_type": "code",
   "execution_count": 59,
   "id": "6d77f92d",
   "metadata": {},
   "outputs": [],
   "source": [
    "printMsg?"
   ]
  },
  {
   "cell_type": "code",
   "execution_count": 60,
   "id": "529ade66",
   "metadata": {},
   "outputs": [],
   "source": [
    "#function input argumentssssssssssssssss more than one ahahaha"
   ]
  },
  {
   "cell_type": "code",
   "execution_count": 61,
   "id": "a4f13cbf",
   "metadata": {},
   "outputs": [],
   "source": [
    "def mypow(a,b):\n",
    "    \"\"\"\n",
    "    this function returns the power\n",
    "    \"\"\"\n",
    "    c =a ** b\n",
    "    print(c)\n",
    "    "
   ]
  },
  {
   "cell_type": "code",
   "execution_count": 64,
   "id": "7f4f851d",
   "metadata": {},
   "outputs": [
    {
     "name": "stdout",
     "output_type": "stream",
     "text": [
      "8\n"
     ]
    }
   ],
   "source": [
    "mypow(2,3)"
   ]
  },
  {
   "cell_type": "code",
   "execution_count": 66,
   "id": "e7e3264d",
   "metadata": {},
   "outputs": [],
   "source": [
    "def checkArgs(a,b,c):\n",
    "    if isinstance(a,(int,float)) and isinstance(b,(int,float)) and isinstance(c,(int,float)):\n",
    "        print((a+b+c)**2)\n",
    "    else:\n",
    "        print(\"error: the input arguments are not of the expected types\")"
   ]
  },
  {
   "cell_type": "code",
   "execution_count": 67,
   "id": "89410cea",
   "metadata": {},
   "outputs": [
    {
     "name": "stdout",
     "output_type": "stream",
     "text": [
      "144\n"
     ]
    }
   ],
   "source": [
    "checkArgs(3,4,5)"
   ]
  },
  {
   "cell_type": "code",
   "execution_count": 69,
   "id": "1d7e1032",
   "metadata": {},
   "outputs": [],
   "source": [
    "def f(a,b,c):\n",
    "    print(\"A is :\" ,a)\n",
    "    print(\"B is :\" ,b)\n",
    "    print(\"C is :\" ,c)"
   ]
  },
  {
   "cell_type": "code",
   "execution_count": 71,
   "id": "481d8972",
   "metadata": {},
   "outputs": [
    {
     "name": "stdout",
     "output_type": "stream",
     "text": [
      "A is : 3\n",
      "B is : game\n",
      "C is : 2\n"
     ]
    }
   ],
   "source": [
    "#f(2,3,\"game\")\n",
    "f(3,\"game\",2)"
   ]
  },
  {
   "cell_type": "code",
   "execution_count": 72,
   "id": "bc3b3cdb",
   "metadata": {},
   "outputs": [
    {
     "name": "stdout",
     "output_type": "stream",
     "text": [
      "A is : 2\n",
      "B is : 3\n",
      "C is : game\n"
     ]
    }
   ],
   "source": [
    "f(a =2,b=3,c=\"game\") #another way to make it the correct arguments by order"
   ]
  },
  {
   "cell_type": "code",
   "execution_count": 3,
   "id": "ca2aa85c",
   "metadata": {},
   "outputs": [],
   "source": [
    "def myadd(a,b):\n",
    "    sumVal = a + b\n",
    "    return sumVal"
   ]
  },
  {
   "cell_type": "code",
   "execution_count": 5,
   "id": "c452ab53",
   "metadata": {},
   "outputs": [
    {
     "name": "stdout",
     "output_type": "stream",
     "text": [
      "5\n"
     ]
    }
   ],
   "source": [
    "d = myadd(2,3)\n",
    "print(d)"
   ]
  },
  {
   "cell_type": "code",
   "execution_count": 8,
   "id": "ba9c0819",
   "metadata": {},
   "outputs": [],
   "source": [
    "variableOutside = 3"
   ]
  },
  {
   "cell_type": "code",
   "execution_count": 9,
   "id": "4bca7cc2",
   "metadata": {},
   "outputs": [],
   "source": [
    "def g(): #this variable is temp only\n",
    "    variableOutside = 5\n",
    "    print(variableOutside) # when u call the fuction it actually call the return value, in this case a print\n",
    "    #if dont set return python auto put it as none"
   ]
  },
  {
   "cell_type": "code",
   "execution_count": 14,
   "id": "92dd02bf",
   "metadata": {},
   "outputs": [
    {
     "name": "stdout",
     "output_type": "stream",
     "text": [
      "5\n",
      "<class 'NoneType'>\n"
     ]
    }
   ],
   "source": [
    "print(type(g()))"
   ]
  },
  {
   "cell_type": "code",
   "execution_count": 15,
   "id": "96acadc8",
   "metadata": {},
   "outputs": [
    {
     "name": "stdout",
     "output_type": "stream",
     "text": [
      "3\n"
     ]
    }
   ],
   "source": [
    "print(variableOutside)"
   ]
  },
  {
   "cell_type": "code",
   "execution_count": 16,
   "id": "ca7c8f16",
   "metadata": {},
   "outputs": [
    {
     "name": "stdout",
     "output_type": "stream",
     "text": [
      "<class 'function'>\n"
     ]
    }
   ],
   "source": [
    "print(type(g)"
   ]
  },
  {
   "cell_type": "code",
   "execution_count": 17,
   "id": "519ebe58",
   "metadata": {},
   "outputs": [],
   "source": [
    "#return acts like break in loops and u can put return without arguments..\n",
    "def h():\n",
    "    print(\"A\")\n",
    "    a = 3\n",
    "    b =5\n",
    "    c =a + b\n",
    "    print(\"something\")\n",
    "    return\n",
    "    print(\"B\")\n",
    "    print(\"C\")"
   ]
  },
  {
   "cell_type": "code",
   "execution_count": 18,
   "id": "e7b5a284",
   "metadata": {},
   "outputs": [
    {
     "name": "stdout",
     "output_type": "stream",
     "text": [
      "A\n",
      "something\n"
     ]
    }
   ],
   "source": [
    "h()"
   ]
  },
  {
   "cell_type": "code",
   "execution_count": 19,
   "id": "24fc3125",
   "metadata": {},
   "outputs": [
    {
     "name": "stdout",
     "output_type": "stream",
     "text": [
      "A\n",
      "something\n",
      "None\n"
     ]
    }
   ],
   "source": [
    "print(h())"
   ]
  },
  {
   "cell_type": "code",
   "execution_count": 20,
   "id": "64a6177d",
   "metadata": {},
   "outputs": [
    {
     "name": "stdout",
     "output_type": "stream",
     "text": [
      "A\n",
      "something\n",
      "<class 'NoneType'>\n"
     ]
    }
   ],
   "source": [
    "print(type(h()))"
   ]
  },
  {
   "cell_type": "code",
   "execution_count": 21,
   "id": "7bcb09ca",
   "metadata": {},
   "outputs": [],
   "source": [
    "def r(): #return multiple value with diff type\n",
    "    a =5\n",
    "    b =7\n",
    "    d =\"something\"\n",
    "    return a,b,d"
   ]
  },
  {
   "cell_type": "code",
   "execution_count": 23,
   "id": "6d058789",
   "metadata": {},
   "outputs": [
    {
     "name": "stdout",
     "output_type": "stream",
     "text": [
      "5 7 something\n"
     ]
    }
   ],
   "source": [
    "x,y,z =r()\n",
    "print(x,y,z)"
   ]
  },
  {
   "cell_type": "code",
   "execution_count": 24,
   "id": "ccdc4e96",
   "metadata": {},
   "outputs": [],
   "source": [
    "def myAddUniversal(*args): #function with no set number of arguments\n",
    "    s = 0 \n",
    "    for i in range(len(args)):\n",
    "        s += args[i]  # s = s+ args[i]\n",
    "    return s"
   ]
  },
  {
   "cell_type": "code",
   "execution_count": 25,
   "id": "804ffb2c",
   "metadata": {},
   "outputs": [
    {
     "data": {
      "text/plain": [
       "11"
      ]
     },
     "execution_count": 25,
     "metadata": {},
     "output_type": "execute_result"
    }
   ],
   "source": [
    "myAddUniversal(2,4,5)"
   ]
  },
  {
   "cell_type": "code",
   "execution_count": 27,
   "id": "80e2260d",
   "metadata": {},
   "outputs": [],
   "source": [
    "def printAllVarNamesAndValues(**args): #for dictionry type args\n",
    "    for x in args:\n",
    "        print(\"variable name is :\",x,\" and value is : \", args[x])\n",
    "    "
   ]
  },
  {
   "cell_type": "code",
   "execution_count": 28,
   "id": "d2ef7a16",
   "metadata": {},
   "outputs": [
    {
     "name": "stdout",
     "output_type": "stream",
     "text": [
      "variable name is : a  and value is :  3\n",
      "variable name is : b  and value is :  B\n",
      "variable name is : c  and value is :  ccc\n",
      "variable name is : y  and value is :  6.7\n"
     ]
    }
   ],
   "source": [
    "printAllVarNamesAndValues(a=3,b=\"B\",c=\"ccc\",y=6.7)"
   ]
  },
  {
   "cell_type": "code",
   "execution_count": 29,
   "id": "63a1978e",
   "metadata": {},
   "outputs": [],
   "source": [
    "#function default values\n",
    "def f(sum =0):\n",
    "    print(sum)"
   ]
  },
  {
   "cell_type": "code",
   "execution_count": 30,
   "id": "6d0653f3",
   "metadata": {},
   "outputs": [],
   "source": [
    "def gg(s=4): #default value\n",
    "    print(s)"
   ]
  },
  {
   "cell_type": "code",
   "execution_count": 31,
   "id": "5ac2004e",
   "metadata": {},
   "outputs": [
    {
     "name": "stdout",
     "output_type": "stream",
     "text": [
      "4\n"
     ]
    }
   ],
   "source": [
    "#about shallow copy and such\n",
    "gg()"
   ]
  },
  {
   "cell_type": "code",
   "execution_count": 32,
   "id": "223d07c5",
   "metadata": {},
   "outputs": [
    {
     "name": "stdout",
     "output_type": "stream",
     "text": [
      "56\n"
     ]
    }
   ],
   "source": [
    "gg(56)"
   ]
  },
  {
   "cell_type": "code",
   "execution_count": 33,
   "id": "07f53275",
   "metadata": {},
   "outputs": [
    {
     "name": "stdout",
     "output_type": "stream",
     "text": [
      "[-9, 2, 3]\n"
     ]
    }
   ],
   "source": [
    "L = [1,2,3]\n",
    "L2 = L\n",
    "L2[0] = -9\n",
    "print(L)"
   ]
  },
  {
   "cell_type": "code",
   "execution_count": 34,
   "id": "16d6819d",
   "metadata": {},
   "outputs": [],
   "source": [
    "def ff(L=[1,2]):\n",
    "    for i in L:\n",
    "        print(i)"
   ]
  },
  {
   "cell_type": "code",
   "execution_count": 36,
   "id": "836f8848",
   "metadata": {},
   "outputs": [
    {
     "name": "stdout",
     "output_type": "stream",
     "text": [
      "12\n",
      "3\n",
      "4\n"
     ]
    }
   ],
   "source": [
    "L2 = [12,3,4]\n",
    "ff(L2)"
   ]
  },
  {
   "cell_type": "code",
   "execution_count": 37,
   "id": "c71ced75",
   "metadata": {},
   "outputs": [
    {
     "name": "stdout",
     "output_type": "stream",
     "text": [
      "1\n",
      "2\n"
     ]
    }
   ],
   "source": [
    "ff()"
   ]
  },
  {
   "cell_type": "code",
   "execution_count": 17,
   "id": "3e2fc12d",
   "metadata": {},
   "outputs": [],
   "source": [
    "#modules\n",
    "#created a function saved in a folder same as notebook\n",
    "\n",
    "import sys\n",
    "sys.path.append('C:\\\\Users\\\\Mell\\\\OneDrive\\\\Desktop\\\\notebook\\\\sampleModules')"
   ]
  },
  {
   "cell_type": "code",
   "execution_count": 16,
   "id": "79c03158",
   "metadata": {},
   "outputs": [],
   "source": [
    "import my_universal_functions as myfs #import all func"
   ]
  },
  {
   "cell_type": "code",
   "execution_count": 43,
   "id": "8e6f99a3",
   "metadata": {},
   "outputs": [],
   "source": [
    "myfs.addAllNumerics??"
   ]
  },
  {
   "cell_type": "code",
   "execution_count": 44,
   "id": "03dde333",
   "metadata": {},
   "outputs": [],
   "source": [
    "c = myfs.addAllNumerics(2,3,4,5)"
   ]
  },
  {
   "cell_type": "code",
   "execution_count": 45,
   "id": "461e9c51",
   "metadata": {},
   "outputs": [
    {
     "name": "stdout",
     "output_type": "stream",
     "text": [
      "14\n"
     ]
    }
   ],
   "source": [
    "print(c)"
   ]
  },
  {
   "cell_type": "code",
   "execution_count": 47,
   "id": "4955321d",
   "metadata": {},
   "outputs": [
    {
     "name": "stdout",
     "output_type": "stream",
     "text": [
      "27\n"
     ]
    }
   ],
   "source": [
    "from my_universal_functions import addAllNumerics as nms #import only 1 func\n",
    "\n",
    "z = nms(2,3,4,5,6,7)\n",
    "print(z)"
   ]
  },
  {
   "cell_type": "code",
   "execution_count": 49,
   "id": "eb948e72",
   "metadata": {},
   "outputs": [
    {
     "data": {
      "text/plain": [
       "'python course'"
      ]
     },
     "execution_count": 49,
     "metadata": {},
     "output_type": "execute_result"
    }
   ],
   "source": [
    "myfs.myName"
   ]
  },
  {
   "cell_type": "code",
   "execution_count": 11,
   "id": "37646d90",
   "metadata": {},
   "outputs": [],
   "source": [
    "\"\"\"\n",
    "given a list of numbers i.e [1,2,4,-5,7,9,3,2], make another list that contains all the items in sorted order from min to max. ie your result will be another list like [-5,1,2,2,3,7,9]\n",
    "\"\"\"\n",
    "\n",
    "def findMin(L,startIndx):\n",
    "    m = L[startIndx]\n",
    "    idx = startIndx\n",
    "    for i in range(startIndx,len(L)):\n",
    "        x = L[i]\n",
    "        if x < m:\n",
    "            m = x\n",
    "            idx =i\n",
    "        else:\n",
    "            pass\n",
    "        \n",
    "        i += 1\n",
    "    return m,idx\n"
   ]
  },
  {
   "cell_type": "code",
   "execution_count": 12,
   "id": "3c9ca097",
   "metadata": {},
   "outputs": [
    {
     "ename": "TypeError",
     "evalue": "findMin() missing 1 required positional argument: 'startIndx'",
     "output_type": "error",
     "traceback": [
      "\u001b[1;31m---------------------------------------------------------------------------\u001b[0m",
      "\u001b[1;31mTypeError\u001b[0m                                 Traceback (most recent call last)",
      "\u001b[1;32m~\\AppData\\Local\\Temp/ipykernel_5916/2665391687.py\u001b[0m in \u001b[0;36m<module>\u001b[1;34m\u001b[0m\n\u001b[1;32m----> 1\u001b[1;33m \u001b[0ma\u001b[0m\u001b[1;33m,\u001b[0m\u001b[0mb\u001b[0m \u001b[1;33m=\u001b[0m \u001b[0mfindMin\u001b[0m\u001b[1;33m(\u001b[0m\u001b[1;33m[\u001b[0m\u001b[1;36m2\u001b[0m\u001b[1;33m,\u001b[0m\u001b[1;36m3\u001b[0m\u001b[1;33m,\u001b[0m\u001b[1;36m4\u001b[0m\u001b[1;33m,\u001b[0m\u001b[1;36m0\u001b[0m\u001b[1;33m,\u001b[0m\u001b[1;36m9\u001b[0m\u001b[1;33m]\u001b[0m\u001b[1;33m)\u001b[0m\u001b[1;33m\u001b[0m\u001b[1;33m\u001b[0m\u001b[0m\n\u001b[0m",
      "\u001b[1;31mTypeError\u001b[0m: findMin() missing 1 required positional argument: 'startIndx'"
     ]
    }
   ],
   "source": [
    "a,b = findMin([2,3,4,0,9])"
   ]
  },
  {
   "cell_type": "code",
   "execution_count": 13,
   "id": "c5ee4222",
   "metadata": {},
   "outputs": [
    {
     "name": "stdout",
     "output_type": "stream",
     "text": [
      "0 3\n"
     ]
    }
   ],
   "source": [
    "print(a,b)"
   ]
  },
  {
   "cell_type": "code",
   "execution_count": 6,
   "id": "5105d488",
   "metadata": {},
   "outputs": [],
   "source": [
    "def swapValues(L,idx1,idx2): #swap 2 values\n",
    "    tmp = L[idx1]\n",
    "    L[idx1] = L[idx2]\n",
    "    L[idx2] = tmp\n",
    "    return L"
   ]
  },
  {
   "cell_type": "code",
   "execution_count": 7,
   "id": "a26d9887",
   "metadata": {},
   "outputs": [],
   "source": [
    "L = [2,3,6,7]\n",
    "L2 = swapValues(L,1,3)"
   ]
  },
  {
   "cell_type": "code",
   "execution_count": 8,
   "id": "a6df3f00",
   "metadata": {},
   "outputs": [
    {
     "name": "stdout",
     "output_type": "stream",
     "text": [
      "[2, 7, 6, 3]\n"
     ]
    }
   ],
   "source": [
    "print(L2)"
   ]
  },
  {
   "cell_type": "code",
   "execution_count": 29,
   "id": "b932361b",
   "metadata": {},
   "outputs": [],
   "source": [
    "from my_universal_functions import checkIfNotNumeric\n",
    "def sortList(L):\n",
    "    if not(checkIfNotNumeric2(L)):\n",
    "        print(\"error: list does not contain numeric values\")\n",
    "        return\n",
    "    else:\n",
    "        c = 0\n",
    "        for x in L:\n",
    "            m,idx = findMin(L,c)\n",
    "            L = swapValues(L,c,idx)\n",
    "            c += 1\n",
    "    return L\n",
    "    "
   ]
  },
  {
   "cell_type": "code",
   "execution_count": 30,
   "id": "e24d3be6",
   "metadata": {},
   "outputs": [
    {
     "name": "stdout",
     "output_type": "stream",
     "text": [
      "[-8, 1, 2, 3, 5, 17]\n"
     ]
    }
   ],
   "source": [
    "L2 = sortList([2,1,5,3,-8,17])\n",
    "print(L2)"
   ]
  },
  {
   "cell_type": "code",
   "execution_count": 21,
   "id": "1a83ce1b",
   "metadata": {},
   "outputs": [],
   "source": [
    "checkIfNotNumeric??"
   ]
  },
  {
   "cell_type": "code",
   "execution_count": 22,
   "id": "04ba06d4",
   "metadata": {},
   "outputs": [
    {
     "data": {
      "text/plain": [
       "False"
      ]
     },
     "execution_count": 22,
     "metadata": {},
     "output_type": "execute_result"
    }
   ],
   "source": [
    "checkIfNotNumeric([2,1,5,3,-8,17])"
   ]
  },
  {
   "cell_type": "code",
   "execution_count": 25,
   "id": "32a039d2",
   "metadata": {},
   "outputs": [],
   "source": [
    "def checkIfNotNumeric2(L):\n",
    "    for x in L:\n",
    "        if not(isinstance(x,(int,float))):\n",
    "            return False\n",
    "    return True"
   ]
  },
  {
   "cell_type": "code",
   "execution_count": 26,
   "id": "6b6f2c82",
   "metadata": {},
   "outputs": [
    {
     "data": {
      "text/plain": [
       "True"
      ]
     },
     "execution_count": 26,
     "metadata": {},
     "output_type": "execute_result"
    }
   ],
   "source": [
    "checkIfNotNumeric2([2,1,5,3,-8,17])"
   ]
  },
  {
   "cell_type": "code",
   "execution_count": 31,
   "id": "889ae879",
   "metadata": {},
   "outputs": [],
   "source": [
    "#string is a sequel of char\n",
    "s = \" python is a good language\"\n",
    "t = \" its good for data science\""
   ]
  },
  {
   "cell_type": "code",
   "execution_count": 32,
   "id": "a3a37e4e",
   "metadata": {},
   "outputs": [
    {
     "data": {
      "text/plain": [
       "str"
      ]
     },
     "execution_count": 32,
     "metadata": {},
     "output_type": "execute_result"
    }
   ],
   "source": [
    "type(s)"
   ]
  },
  {
   "cell_type": "code",
   "execution_count": 33,
   "id": "2dfdd429",
   "metadata": {},
   "outputs": [
    {
     "name": "stdout",
     "output_type": "stream",
     "text": [
      " python is a good language\n"
     ]
    }
   ],
   "source": [
    "print(s)"
   ]
  },
  {
   "cell_type": "code",
   "execution_count": 34,
   "id": "ebfefba4",
   "metadata": {},
   "outputs": [
    {
     "name": "stdout",
     "output_type": "stream",
     "text": [
      " python is a good language its good for data science\n"
     ]
    }
   ],
   "source": [
    "print(s + t)"
   ]
  },
  {
   "cell_type": "code",
   "execution_count": 36,
   "id": "ec2a8276",
   "metadata": {},
   "outputs": [
    {
     "name": "stdout",
     "output_type": "stream",
     "text": [
      "hellow 12 hellow2 who are you 5.9\n"
     ]
    }
   ],
   "source": [
    "print(\"hellow\",12,\"hellow2\", \"who are you\", 5.9)"
   ]
  },
  {
   "cell_type": "code",
   "execution_count": 38,
   "id": "7cc3acb1",
   "metadata": {},
   "outputs": [
    {
     "name": "stdout",
     "output_type": "stream",
     "text": [
      " python is a good language   its good for data science\n"
     ]
    }
   ],
   "source": [
    "v = s + \"  \" +t\n",
    "print(v)"
   ]
  },
  {
   "cell_type": "code",
   "execution_count": 45,
   "id": "2587146f",
   "metadata": {},
   "outputs": [
    {
     "name": "stdout",
     "output_type": "stream",
     "text": [
      " the price of this book is 12\n",
      " the price of this book is 12\n"
     ]
    }
   ],
   "source": [
    "price = 12\n",
    "s = \" the price of this book\"\n",
    "v = s + \" is \" + str(price) #change the type to str\n",
    "print(v)\n",
    "print(s,\"is\", price) #print auto create the space"
   ]
  },
  {
   "cell_type": "code",
   "execution_count": 46,
   "id": "864456d4",
   "metadata": {},
   "outputs": [],
   "source": [
    "#multi line string use \"\"\" \"\"\"\n",
    "\n",
    "mulstring = \"\"\"\n",
    "\n",
    "something loike this\n",
    "\n",
    "\n",
    "\"\"\""
   ]
  },
  {
   "cell_type": "code",
   "execution_count": 47,
   "id": "6718e9f9",
   "metadata": {},
   "outputs": [
    {
     "name": "stdout",
     "output_type": "stream",
     "text": [
      "this is line 1\n",
      "this is line 2\n",
      "this is last line and this line is 3\n",
      "\n",
      "\n"
     ]
    }
   ],
   "source": [
    "a = \"\"\"this is line 1\n",
    "this is line 2\n",
    "this is last line and this line is 3\n",
    "\n",
    "\"\"\"\n",
    "print(a)"
   ]
  },
  {
   "cell_type": "code",
   "execution_count": 48,
   "id": "3a97531b",
   "metadata": {},
   "outputs": [
    {
     "name": "stdout",
     "output_type": "stream",
     "text": [
      " The following options are available:\n",
      "-a : does nothing\n",
      "-b : also does nothing\n",
      "\n"
     ]
    }
   ],
   "source": [
    "print(\"\"\" The following options are available:\n",
    "-a : does nothing\n",
    "-b : also does nothing\n",
    "\"\"\")"
   ]
  },
  {
   "cell_type": "code",
   "execution_count": 49,
   "id": "acec11c8",
   "metadata": {},
   "outputs": [
    {
     "name": "stdout",
     "output_type": "stream",
     "text": [
      "r\n"
     ]
    }
   ],
   "source": [
    "s = \"how are you and who are you\"\n",
    "print(s[5])"
   ]
  },
  {
   "cell_type": "code",
   "execution_count": 50,
   "id": "274d743f",
   "metadata": {},
   "outputs": [
    {
     "data": {
      "text/plain": [
       "str"
      ]
     },
     "execution_count": 50,
     "metadata": {},
     "output_type": "execute_result"
    }
   ],
   "source": [
    "type(s[5])"
   ]
  },
  {
   "cell_type": "code",
   "execution_count": 52,
   "id": "43e88186",
   "metadata": {},
   "outputs": [
    {
     "data": {
      "text/plain": [
       "' are y'"
      ]
     },
     "execution_count": 52,
     "metadata": {},
     "output_type": "execute_result"
    }
   ],
   "source": [
    "s[3:9] #char 3(inc) to 9"
   ]
  },
  {
   "cell_type": "code",
   "execution_count": 54,
   "id": "33fa6786",
   "metadata": {},
   "outputs": [
    {
     "data": {
      "text/plain": [
       "'how are yo'"
      ]
     },
     "execution_count": 54,
     "metadata": {},
     "output_type": "execute_result"
    }
   ],
   "source": [
    "s[0:10] #from 0 to 10th"
   ]
  },
  {
   "cell_type": "code",
   "execution_count": 55,
   "id": "8562cd3c",
   "metadata": {},
   "outputs": [
    {
     "data": {
      "text/plain": [
       "'u'"
      ]
     },
     "execution_count": 55,
     "metadata": {},
     "output_type": "execute_result"
    }
   ],
   "source": [
    "s[-1]"
   ]
  },
  {
   "cell_type": "code",
   "execution_count": 58,
   "id": "407a6937",
   "metadata": {},
   "outputs": [
    {
     "data": {
      "text/plain": [
       "'y'"
      ]
     },
     "execution_count": 58,
     "metadata": {},
     "output_type": "execute_result"
    }
   ],
   "source": [
    "s[-3] #minus means form the left"
   ]
  },
  {
   "cell_type": "code",
   "execution_count": 57,
   "id": "0bae6790",
   "metadata": {},
   "outputs": [
    {
     "data": {
      "text/plain": [
       "' are '"
      ]
     },
     "execution_count": 57,
     "metadata": {},
     "output_type": "execute_result"
    }
   ],
   "source": [
    "s[-8:-3] #also known slicing"
   ]
  },
  {
   "cell_type": "code",
   "execution_count": 60,
   "id": "ea252835",
   "metadata": {},
   "outputs": [
    {
     "data": {
      "text/plain": [
       "' who are '"
      ]
     },
     "execution_count": 60,
     "metadata": {},
     "output_type": "execute_result"
    }
   ],
   "source": [
    "s[-12:-3]"
   ]
  },
  {
   "cell_type": "code",
   "execution_count": 62,
   "id": "36c4c7f7",
   "metadata": {},
   "outputs": [
    {
     "ename": "TypeError",
     "evalue": "'str' object does not support item assignment",
     "output_type": "error",
     "traceback": [
      "\u001b[1;31m---------------------------------------------------------------------------\u001b[0m",
      "\u001b[1;31mTypeError\u001b[0m                                 Traceback (most recent call last)",
      "\u001b[1;32m~\\AppData\\Local\\Temp/ipykernel_5916/586368344.py\u001b[0m in \u001b[0;36m<module>\u001b[1;34m\u001b[0m\n\u001b[1;32m----> 1\u001b[1;33m \u001b[0ms\u001b[0m\u001b[1;33m[\u001b[0m\u001b[1;36m1\u001b[0m\u001b[1;33m]\u001b[0m \u001b[1;33m=\u001b[0m \u001b[1;34m\"e\"\u001b[0m \u001b[1;31m#new char cannot assign new one...cause string is immutable\u001b[0m\u001b[1;33m\u001b[0m\u001b[1;33m\u001b[0m\u001b[0m\n\u001b[0m",
      "\u001b[1;31mTypeError\u001b[0m: 'str' object does not support item assignment"
     ]
    }
   ],
   "source": [
    "s[1] = \"e\" #new char cannot assign new one...cause string is immutable"
   ]
  },
  {
   "cell_type": "code",
   "execution_count": 64,
   "id": "98f0d7e2",
   "metadata": {},
   "outputs": [
    {
     "data": {
      "text/plain": [
       "'hwaeyu'"
      ]
     },
     "execution_count": 64,
     "metadata": {},
     "output_type": "execute_result"
    }
   ],
   "source": [
    "s[0:12:2] #from 0(inc) to 12 , skip 2"
   ]
  },
  {
   "cell_type": "code",
   "execution_count": 65,
   "id": "901514b2",
   "metadata": {},
   "outputs": [
    {
     "data": {
      "text/plain": [
       "'how are you '"
      ]
     },
     "execution_count": 65,
     "metadata": {},
     "output_type": "execute_result"
    }
   ],
   "source": [
    "s[:12] #start form 0(inc)\n"
   ]
  },
  {
   "cell_type": "code",
   "execution_count": 67,
   "id": "0dc284ac",
   "metadata": {},
   "outputs": [
    {
     "data": {
      "text/plain": [
       "' are you and who are you'"
      ]
     },
     "execution_count": 67,
     "metadata": {},
     "output_type": "execute_result"
    }
   ],
   "source": [
    "s[3:] #start from last(inc)"
   ]
  },
  {
   "cell_type": "code",
   "execution_count": 69,
   "id": "0b372ff7",
   "metadata": {},
   "outputs": [
    {
     "data": {
      "text/plain": [
       "'uoy era ohw dna uoy era woh'"
      ]
     },
     "execution_count": 69,
     "metadata": {},
     "output_type": "execute_result"
    }
   ],
   "source": [
    "s[::-1] #swap the string"
   ]
  },
  {
   "cell_type": "markdown",
   "id": "2c78ec6a",
   "metadata": {},
   "source": [
    "# String functions"
   ]
  },
  {
   "cell_type": "code",
   "execution_count": 70,
   "id": "cfce5af1",
   "metadata": {},
   "outputs": [
    {
     "name": "stdout",
     "output_type": "stream",
     "text": [
      "abc       def            hqg asdfqwed\n"
     ]
    }
   ],
   "source": [
    "a = \"     abc       def            hqg asdfqwed\"\n",
    "b= a.strip() #remove space from begin and end\n",
    "print(b)"
   ]
  },
  {
   "cell_type": "code",
   "execution_count": 71,
   "id": "3fa99f7a",
   "metadata": {},
   "outputs": [
    {
     "name": "stdout",
     "output_type": "stream",
     "text": [
      "abc defg ;; sadfa qf\n"
     ]
    }
   ],
   "source": [
    "a = \"ABC deFg ;; sadfa QF\"\n",
    "b = a.lower() #make it lower case\n",
    "print(b)"
   ]
  },
  {
   "cell_type": "code",
   "execution_count": 72,
   "id": "21bb41ae",
   "metadata": {},
   "outputs": [
    {
     "name": "stdout",
     "output_type": "stream",
     "text": [
      "ABC DEFG ;; SADFA QF\n"
     ]
    }
   ],
   "source": [
    "a = \"ABC deFg ;; sadfa QF\"\n",
    "b = a.upper() #make it upper case\n",
    "print(b)"
   ]
  },
  {
   "cell_type": "code",
   "execution_count": 74,
   "id": "f7c008f5",
   "metadata": {},
   "outputs": [
    {
     "name": "stdout",
     "output_type": "stream",
     "text": [
      "ABC deFg ** sadfa QF\n"
     ]
    }
   ],
   "source": [
    "d = a.replace(\";\",\"*\")\n",
    "print(d)"
   ]
  },
  {
   "cell_type": "code",
   "execution_count": 76,
   "id": "d6375935",
   "metadata": {},
   "outputs": [
    {
     "name": "stdout",
     "output_type": "stream",
     "text": [
      "ABC deFg two semi colons sadfa QF\n"
     ]
    }
   ],
   "source": [
    "d = a.replace(\";;\",\"two semi colons\")\n",
    "print(d)"
   ]
  },
  {
   "cell_type": "code",
   "execution_count": 78,
   "id": "553b7347",
   "metadata": {},
   "outputs": [
    {
     "name": "stdout",
     "output_type": "stream",
     "text": [
      "['abc', 'def', 'hyfge', '314']\n"
     ]
    }
   ],
   "source": [
    "a = \"abc;def;hyfge;314\"\n",
    "L = a.split(\";\") #split return a list\n",
    "print(L)"
   ]
  },
  {
   "cell_type": "code",
   "execution_count": 80,
   "id": "05248e10",
   "metadata": {},
   "outputs": [
    {
     "name": "stdout",
     "output_type": "stream",
     "text": [
      "Abc;def;hyfge;314\n"
     ]
    }
   ],
   "source": [
    "print(a.capitalize())"
   ]
  },
  {
   "cell_type": "code",
   "execution_count": 81,
   "id": "d6bf3534",
   "metadata": {},
   "outputs": [
    {
     "data": {
      "text/plain": [
       "False"
      ]
     },
     "execution_count": 81,
     "metadata": {},
     "output_type": "execute_result"
    }
   ],
   "source": [
    "\"abc\" in \" asdasdmuqbfdasdmquihdxaa;dqudh\""
   ]
  },
  {
   "cell_type": "code",
   "execution_count": 82,
   "id": "9785dc82",
   "metadata": {},
   "outputs": [
    {
     "data": {
      "text/plain": [
       "True"
      ]
     },
     "execution_count": 82,
     "metadata": {},
     "output_type": "execute_result"
    }
   ],
   "source": [
    "\"abc\" == \"abc\""
   ]
  },
  {
   "cell_type": "code",
   "execution_count": 83,
   "id": "d4a976cf",
   "metadata": {},
   "outputs": [
    {
     "data": {
      "text/plain": [
       "True"
      ]
     },
     "execution_count": 83,
     "metadata": {},
     "output_type": "execute_result"
    }
   ],
   "source": [
    "\"abc\" not in \" asdasdmuqbfdasdmquihdxaa;dqudh\""
   ]
  },
  {
   "cell_type": "code",
   "execution_count": 84,
   "id": "ff39226a",
   "metadata": {},
   "outputs": [
    {
     "name": "stdout",
     "output_type": "stream",
     "text": [
      "we are learnign \"string\" here\n"
     ]
    }
   ],
   "source": [
    "print(\"we are learnign \\\"string\\\" here\") #print multiple \" \""
   ]
  },
  {
   "cell_type": "code",
   "execution_count": 85,
   "id": "9832cc6f",
   "metadata": {},
   "outputs": [
    {
     "name": "stdout",
     "output_type": "stream",
     "text": [
      "we are learning \"string\" here\n"
     ]
    }
   ],
   "source": [
    "print('we are learning \"string\" here')"
   ]
  },
  {
   "cell_type": "code",
   "execution_count": 86,
   "id": "f3aea035",
   "metadata": {},
   "outputs": [
    {
     "name": "stdout",
     "output_type": "stream",
     "text": [
      "we are \t now on another line\n"
     ]
    }
   ],
   "source": [
    "print(\"we are \\t now on another line\")"
   ]
  },
  {
   "cell_type": "code",
   "execution_count": 87,
   "id": "f9c9f642",
   "metadata": {},
   "outputs": [
    {
     "name": "stdout",
     "output_type": "stream",
     "text": [
      "c:\n",
      "ame\\drive\n"
     ]
    }
   ],
   "source": [
    "print(\"c:\\name\\drive\")  #cos \\n is newline"
   ]
  },
  {
   "cell_type": "code",
   "execution_count": 89,
   "id": "c990f9ca",
   "metadata": {},
   "outputs": [
    {
     "name": "stdout",
     "output_type": "stream",
     "text": [
      "c:\\name\\drive\n"
     ]
    }
   ],
   "source": [
    "print(r\"c:\\name\\drive\") #raw string"
   ]
  },
  {
   "cell_type": "code",
   "execution_count": null,
   "id": "8877d13b",
   "metadata": {},
   "outputs": [],
   "source": []
  }
 ],
 "metadata": {
  "kernelspec": {
   "display_name": "Python 3 (ipykernel)",
   "language": "python",
   "name": "python3"
  },
  "language_info": {
   "codemirror_mode": {
    "name": "ipython",
    "version": 3
   },
   "file_extension": ".py",
   "mimetype": "text/x-python",
   "name": "python",
   "nbconvert_exporter": "python",
   "pygments_lexer": "ipython3",
   "version": "3.9.7"
  }
 },
 "nbformat": 4,
 "nbformat_minor": 5
}
